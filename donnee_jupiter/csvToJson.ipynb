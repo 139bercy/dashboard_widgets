{
 "cells": [
  {
   "cell_type": "code",
   "execution_count": 21,
   "metadata": {},
   "outputs": [],
   "source": [
    "import pandas as pd\n",
    "import json"
   ]
  },
  {
   "cell_type": "code",
   "execution_count": 2,
   "metadata": {},
   "outputs": [],
   "source": [
    "col = [\"indicateur\", \"period_date\", \"valeur\", \"mesure\", \"short_indic\", \"dep\", \"reg\"]\n",
    "df = pd.read_csv(\"/home/guillaume/Documents/testVue/covid19-dashboard-widgets/donnee_jupiter/pp_dep.csv\", usecols=col, sep=\";\")\n",
    "df['period_date'] = pd.to_datetime(df['period_date'])"
   ]
  },
  {
   "cell_type": "code",
   "execution_count": 3,
   "metadata": {},
   "outputs": [
    {
     "data": {
      "text/plain": [
       "Index(['indicateur', 'period_date', 'valeur', 'mesure', 'short_indic', 'dep',\n",
       "       'reg'],\n",
       "      dtype='object')"
      ]
     },
     "execution_count": 3,
     "metadata": {},
     "output_type": "execute_result"
    }
   ],
   "source": [
    "df.columns"
   ]
  },
  {
   "cell_type": "code",
   "execution_count": 4,
   "metadata": {},
   "outputs": [],
   "source": [
    "indicList = df.short_indic.unique()\n",
    "dfList = []\n",
    "for indic in indicList:\n",
    "    dfList.append(df.loc[df.short_indic == indic])"
   ]
  },
  {
   "cell_type": "code",
   "execution_count": 23,
   "metadata": {},
   "outputs": [
    {
     "name": "stderr",
     "output_type": "stream",
     "text": [
      "<ipython-input-23-7533bb19b063>:13: RuntimeWarning: invalid value encountered in double_scalars\n",
      "  round((ev / val)*100,2)\n"
     ]
    }
   ],
   "source": [
    "# create objects for json\n",
    "listObject = []\n",
    "\n",
    "def evolVal(valI, valE):\n",
    "    if (valE == 0):\n",
    "        return 0\n",
    "    elif(valI != valE):\n",
    "        return valI - valE\n",
    "    else:\n",
    "        return 0\n",
    "\n",
    "def evolPercent(ev, val):\n",
    "    round((ev / val)*100,2)\n",
    "\n",
    "\n",
    "for dff in dfList:\n",
    "    data = {}\n",
    "    \n",
    "    data[\"nom\"] = dff[\"indicateur\"].iloc[0]\n",
    "    data[\"unite\"] = dff[\"short_indic\"].iloc[0]\n",
    "    \n",
    "    # FRANCE\n",
    "    most_recent_date = dff['period_date'].max()\n",
    "    dfDate = dff.loc[dff.period_date == most_recent_date]\n",
    "    sumValue = dfDate[\"valeur\"].sum()\n",
    "    \n",
    "    #calcul evolution % :\n",
    "    dfevol = pd.DataFrame()\n",
    "    dfevol = dff.copy() \n",
    "    dfevol.drop(dfevol.loc[dfevol['period_date'] == most_recent_date].index, inplace=True)\n",
    "    most_recent_date2 = dfevol['period_date'].max()\n",
    "    dfDatee = dfevol.loc[dfevol.period_date == most_recent_date2]\n",
    "    sumValue2 = dfDatee[\"valeur\"].sum()\n",
    "    evol = evolVal(sumValue, sumValue2)\n",
    "    evol_percent = evolPercent(evol, sumValue2)\n",
    "    \n",
    "    #fabrication json france :\n",
    "    france = {}\n",
    "    france[\"last_value\"] = sumValue\n",
    "    france[\"last_date\"] = str(most_recent_date) #.to_pydatetime()\n",
    "    france[\"evol\"] = evol\n",
    "    france[\"evol_percentage\"] = evol_percent\n",
    "    france[\"evol_color\"] = \"red\"\n",
    "    france[\"level\"] = \"nat\"\n",
    "    france[\"code_level\"] = \"fra\"\n",
    "    c = []\n",
    "    c.append(france)\n",
    "    data[\"france\"] = c\n",
    "    \n",
    "    # REGION\n",
    "    \n",
    "    regionList = []\n",
    "    most_recent_date = \"\"\n",
    "    reg = []\n",
    "    reg = dff.reg.unique()\n",
    "    for region in reg:\n",
    "        dfreg = dff.loc[dff.reg == region]\n",
    "        most_recent_date = dfreg['period_date'].max()\n",
    "        sumValueReg = dfreg[\"valeur\"].sum()\n",
    "        \n",
    "        #calcul evolution % :\n",
    "        dfevol = pd.DataFrame()\n",
    "        dfevol = dfreg.copy() \n",
    "        dfevol.drop(dfevol.loc[dfevol['period_date'] == most_recent_date].index, inplace=True)\n",
    "        most_recent_date2 = dfevol['period_date'].max()\n",
    "        dfDatee = dfevol.loc[dfevol.period_date == most_recent_date2]\n",
    "        sumValue2 = dfDatee[\"valeur\"].sum()\n",
    "        evol = 0\n",
    "        evol_percent = 0\n",
    "        evol = evolVal(sumValue, sumValue2)\n",
    "        evol_percent = evolPercent(evol, sumValue2)\n",
    "        \n",
    "        #fabrication json region :\n",
    "        regionDict = {}\n",
    "        regionDict[\"last_value\"] = sumValueReg\n",
    "        regionDict[\"last_date\"] = str(most_recent_date) #.to_pydatetime()\n",
    "        regionDict[\"evol\"] = evol\n",
    "        regionDict[\"evol_percentage\"] = evol_percent\n",
    "        regionDict[\"evol_color\"] = \"red\"\n",
    "        regionDict[\"level\"] = \"reg\"\n",
    "        regionDict[\"code_level\"] = region\n",
    "        regionList.append(regionDict)\n",
    "        \n",
    "    data[\"regions\"] = regionList\n",
    "    \n",
    "    # DEPARTEMENTS\n",
    "    \n",
    "    departementList = []\n",
    "    most_recent_date = \"\"\n",
    "    dep = []\n",
    "    dep = dff.dep.unique()\n",
    "    for dpt in dep:\n",
    "        dfdep = dff.loc[dff.reg == dpt]\n",
    "        most_recent_date = dfdep['period_date'].max()\n",
    "        sumValueDep = dfdep[\"valeur\"].sum()\n",
    "        \n",
    "        #calcul evolution % :\n",
    "        dfevol = pd.DataFrame()\n",
    "        dfevol = dfdep.copy() \n",
    "        dfevol.drop(dfevol.loc[dfevol['period_date'] == most_recent_date].index, inplace=True)\n",
    "        most_recent_date2 = dfevol['period_date'].max()\n",
    "        dfDatee = dfevol.loc[dfevol.period_date == most_recent_date2]\n",
    "        sumValue2 = dfDatee[\"valeur\"].sum()\n",
    "        evol = 0\n",
    "        evol_percent = 0\n",
    "        evol = evolVal(sumValue, sumValue2)\n",
    "        evol_percent = evolPercent(evol, sumValue2)\n",
    "        \n",
    "        #fabrication json departement :\n",
    "        depDict = {}\n",
    "        depDict[\"last_value\"] = sumValueDep\n",
    "        depDict[\"last_date\"] = str(most_recent_date)\n",
    "        depDict[\"evol\"] = evol\n",
    "        depDict[\"evol_percentage\"] = evol_percent\n",
    "        depDict[\"evol_color\"] = \"red\"\n",
    "        depDict[\"level\"] = \"reg\"\n",
    "        depDict[\"code_level\"] = dpt\n",
    "        departementList.append(depDict)\n",
    "        \n",
    "    data[\"departements\"] = departementList\n",
    "    \n",
    "    listObject.append(data)\n",
    "\n",
    "    "
   ]
  },
  {
   "cell_type": "code",
   "execution_count": 24,
   "metadata": {},
   "outputs": [],
   "source": [
    "\n",
    "for jsonObj in listObject:\n",
    "    name = jsonObj[\"unite\"].replace(\" \", \"_\")\n",
    "    path = \"/home/guillaume/Documents/testVue/covid19-dashboard-widgets/donnee_jupiter/json/\" + name +\".json\"\n",
    "    with open(path, \"w\", encoding=\"utf8\") as f:\n",
    "        json.dump(jsonObj, f, ensure_ascii=False)"
   ]
  }
 ],
 "metadata": {
  "kernelspec": {
   "display_name": "Python 3",
   "language": "python",
   "name": "python3"
  },
  "language_info": {
   "codemirror_mode": {
    "name": "ipython",
    "version": 3
   },
   "file_extension": ".py",
   "mimetype": "text/x-python",
   "name": "python",
   "nbconvert_exporter": "python",
   "pygments_lexer": "ipython3",
   "version": "3.8.3"
  }
 },
 "nbformat": 4,
 "nbformat_minor": 4
}
